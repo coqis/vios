{
 "cells": [
  {
   "cell_type": "markdown",
   "metadata": {},
   "source": [
    "## 1. **安装配置**\n",
    "- 关于：\n",
    "    - systemq：定义设备驱动和量子门\n",
    "    - waveforms(qlisp)：将线路编译为波形指令\n",
    "    - quarkstudio：设备控制和网络通信，执行编译生成的指令\n",
    "- 安装：见[installation](../../#installation)。正确安装情况下，相关依赖都会自动装好。\n",
    "    - 安装前：若无把握，**务必**删除干净电脑上**所有多余的Python或Conda**！！！\n",
    "    - 安装后：确保**环境变量**被正确设置，否则提示命令找不到！！！"
   ]
  },
  {
   "cell_type": "markdown",
   "metadata": {},
   "source": [
    "## 2. **设备调试**\n",
    "\n",
    "- 如需编写驱动（可参考dev中其他设备的实现）：\n",
    "\n",
    "    - 设备驱动必须继承自BaseDriver(`from quark.driver.common import BaseDriver`)\n",
    "    - 所有驱动必须实现`open`/`close`/`write`/`read`方法\n",
    "\n",
    "\n",
    "- 测试并确保设备驱动***完全无误***：\n",
    "    ```python\n",
    "    # 根据设备类型导入设备驱动，如网分\n",
    "    from systemq.dev import NetworkAnalyzer\n",
    "\n",
    "    # 根据设备地址实例化设备\n",
    "    dev = NetworkAnalyzer.Driver('192.168.1.42')\n",
    "    # 打开设备\n",
    "    dev.open()\n",
    "\n",
    "    # 设备写操作，通过setValue（实际调用`write`方法），可操作属性见驱动文件定义的quants列表\n",
    "    dev.setValue('Power', -10)\n",
    "    # 设备读操作，通过getValue（实际调用`read`方法），可操作属性见驱动文件定义的quants列表\n",
    "    dev.getVaule('Power')\n",
    "    ```\n",
    "- > 如在实验过程中发现设备不正常工作，回到此处按此方法进行查验！！！"
   ]
  },
  {
   "cell_type": "markdown",
   "metadata": {},
   "source": [
    "## 3. **实验详解**\n",
    "\n",
    "- 按要求启动[**QuarkServer**](../../quark/server/)\n",
    "    > 后以**server**代指**QuarkServer**，以**cfg**代指**QuarkServer**中的配置表（如示例中的[checkpoint.json](../checkpoint.json)）\n",
    "- 以s21为例，更多范例见[**Experiment**](../demo/)"
   ]
  },
  {
   "cell_type": "markdown",
   "metadata": {},
   "source": [
    "### **imports**\n",
    "- **Recipe**: 记录任务信息，生成任务描述\n",
    "- **s**: 与server进行通信交互的工具\n",
    "    - 更新参数：`s.update('gate.Measure.Q0.params.frequency', 5.321e9)`\n",
    "    - 查询参数：`s.query('gate.Measure.Q0.params.frequency')`\n",
    "    - 写设备：`s.write('ZW_AD3.CH1.Offset', 0.2)`\n",
    "    - 读设备：`s.read('ZW_AD3.CH1.Offset')`\n",
    "- **submit**: 向server提交Recipe生成的任务"
   ]
  },
  {
   "cell_type": "code",
   "execution_count": 7,
   "metadata": {},
   "outputs": [],
   "source": [
    "import matplotlib.pyplot as plt\n",
    "import numpy as np\n",
    "\n",
    "from quark.app import Recipe, s, submit"
   ]
  },
  {
   "cell_type": "code",
   "execution_count": null,
   "metadata": {},
   "outputs": [
    {
     "name": "stderr",
     "output_type": "stream",
     "text": [
      "\u001b[32m2025-03-09 13:12:57.821\u001b[0m | \u001b[1mINFO    \u001b[0m | \u001b[36mquark.app\u001b[0m:\u001b[36mlogin\u001b[0m:\u001b[36m124\u001b[0m - \u001b[1mLOGINED[baqis], Checkpoint[2025-03-09 13:06:32 Sun] loaded from: C:\\Users\\NUC\\Desktop\\home\\cfg\\checkpoint.json\u001b[0m\n"
     ]
    }
   ],
   "source": [
    "# 每次重启server都需要重新login，用户名与注册时保持一致\n",
    "s.login('baqis')\n",
    "\n",
    "# 如果login提示错误，则执行注册操作：signup\n",
    "# 用户名任意(此处为baqis)，用于login\n",
    "# 执行前需将cfg(如checkpoint.json)复制到： ~/Desktop/home/cfg(如目录不存在可自行创建)\n",
    "# signup完毕后重新login即可\n",
    "# s.signup('baqis','checkpoint')"
   ]
  },
  {
   "cell_type": "markdown",
   "metadata": {},
   "source": [
    "### **open device**\n",
    "- `s.start()`根据设备连接类型不同打开或连接设备（可参考**quark server**启动时显示的信息）\n",
    "    - 如果type=[driver](../../quark/server#what-is-dev)\n",
    "        - 根据**name**从`etc.driver.path`指定路径导入Driver\n",
    "        - 传入**addr**实例化Driver\n",
    "        - 执行**open()**\n",
    "        - > 设备上开启remote执行同样操作\n",
    "    - 如果type=[remote](../../quark/remote)\n",
    "        - ```connect(‘alias’, host, port) # 三个参数需和设备上配置完全一致```\n",
    "        - 没有open()\n",
    "\n",
    "- 即将dev中设备按如下方式打开\n",
    "    ```bash\n",
    "    for alias, info in dev.items():\n",
    "        if type == 'driver':\n",
    "            from systemq.dev import info['name'] as device\n",
    "            d = device.Driver(info['addr'])\n",
    "            d.open()\n",
    "        elif type == 'remote':\n",
    "            d = connect(‘alias’, host, port)\n",
    "    ```\n",
    "- 打开设备，在此之前，任务不可执行！"
   ]
  },
  {
   "cell_type": "code",
   "execution_count": 50,
   "metadata": {},
   "outputs": [
    {
     "data": {
      "text/plain": [
       "'QuarkServer started!'"
      ]
     },
     "execution_count": 50,
     "metadata": {},
     "output_type": "execute_result"
    }
   ],
   "source": [
    "s.start()"
   ]
  },
  {
   "cell_type": "markdown",
   "metadata": {},
   "source": [
    "### **example: s21**\n",
    "- 线路函数：生成qlisp，最后一个参数固定为ctx。在当前环境下，可令**ctx=s**。\n",
    "    - 线路函数中尽量不引入额外参数，cfg中所有参数均可在外部临时修改，如示例中的***default_type***！\n",
    "- 参数定义：rcp接受任意定义的参数，其中**list**或**np.array**被视为扫描变量。\n",
    "    - cfg中所有参数均可扫描，只要将其按下述方式指定为**list**或**np.array**变量即可，如示例中的***frequency***。\n",
    "    - qubits：线路参数之一，必须为**tuple**，若为**list**则会被视为变量！\n",
    "- cfg配置（根据实际情况修改）：\n",
    "    - 指定待测比特：`s.update('M1.qubits,['Q0','Q4','Q9'])`\n",
    "    - 指定读取波形输出通道：`s.update('M1.channel.DDS,'ZW_AD3.CH1')`\n",
    "    - 指定读取数据采集通道：`s.update('M1.channel.ADC,'ZW_AD3.CH13')`"
   ]
  },
  {
   "cell_type": "code",
   "execution_count": 41,
   "metadata": {},
   "outputs": [
    {
     "data": {
      "application/vnd.jupyter.widget-view+json": {
       "model_id": "29d9c018224a405d83a4340e6b749f5c",
       "version_major": 2,
       "version_minor": 0
      },
      "text/plain": [
       "baiqs:/s21   0%|          |0/101 [00:00<?, ?it/s, MainThread]"
      ]
     },
     "metadata": {},
     "output_type": "display_data"
    }
   ],
   "source": [
    "def S21(qubits: list[str], ctx=None) -> list:\n",
    "    cc = [(('Measure', i, ), q) for i, q in enumerate(qubits)]\n",
    "    return cc\n",
    "\n",
    "\n",
    "rcp = Recipe('s21', signal='iq_avg')\n",
    "rcp.circuit = S21\n",
    "\n",
    "qubits = tuple(['Q0', 'Q4', 'Q9'])\n",
    "rcp['qubits'] = qubits\n",
    "rcp['freq'] = np.linspace(-5, 5, 101) * 1e6\n",
    "\n",
    "for q in qubits:\n",
    "    rcp[f'gate.Measure.{q}.params.frequency'] = rcp['freq'] + \\\n",
    "        s.query(f'gate.Measure.{q}.params.frequency')\n",
    "    rcp[f'gate.Measure.{q}.default_type'] = 'default'\n",
    "\n",
    "# preview: 实时波形, 需要打开`quark canvas`\n",
    "# plot: 实时数据(1d或2d)，需要打开`quark viewer`\n",
    "s21 = submit(rcp.export(), preview=['M1'], plot=False)\n",
    "s21.bar(interval=1)  # 获取数据的周期，默认为2s"
   ]
  },
  {
   "cell_type": "markdown",
   "metadata": {},
   "source": [
    "#### log information\n",
    "- <font size=\"2\">日志形如：📥[baqis, 0] 📤[2503072329410017622, 0] 🕓[100%(  1/  2)  0.000/ 0.436]<0.003, 0.003, 0.000> 💻(866.34, 3385.867)</font>\n",
    "- <font size=\"2\">对应含义：📥[用户名, 剩余任务数] 📤[任务id, 任务优先级] 🕓[进度(步数/总步数) 剩余时间/已用时间]<波形采样, **设备执行**, 数据处理> 💻(server占用内存, **系统剩余内存**)</font>\n",
    "    > - 任务执行时间，一般情况下主要决定于**设备执行**时间！\n",
    "    > - **系统剩余内存**如果过低，可能会导致电脑死机！"
   ]
  },
  {
   "cell_type": "markdown",
   "metadata": {},
   "source": [
    "#### error report\n",
    "- 如果任务出错非正常结束，可由`report`获取错误信息！"
   ]
  },
  {
   "cell_type": "code",
   "execution_count": null,
   "metadata": {},
   "outputs": [],
   "source": [
    "s21.report()"
   ]
  },
  {
   "cell_type": "markdown",
   "metadata": {},
   "source": [
    "#### cancel task\n",
    "- 终止任务，取消后续的编译和执行流程"
   ]
  },
  {
   "cell_type": "code",
   "execution_count": null,
   "metadata": {},
   "outputs": [],
   "source": [
    "s21.cancel()"
   ]
  },
  {
   "cell_type": "markdown",
   "metadata": {},
   "source": [
    "#### circuit in qlisp\n",
    "- 用于检查生成的线路是否正确，应和在此处直接调用线路函数结果一致！"
   ]
  },
  {
   "cell_type": "code",
   "execution_count": 11,
   "metadata": {},
   "outputs": [
    {
     "data": {
      "text/plain": [
       "[(('Measure', 0), 'Q0'), (('Measure', 1), 'Q4'), (('Measure', 2), 'Q8')]"
      ]
     },
     "execution_count": 11,
     "metadata": {},
     "output_type": "execute_result"
    }
   ],
   "source": [
    "cirq = s21.circuit(0)\n",
    "cirq"
   ]
  },
  {
   "cell_type": "markdown",
   "metadata": {},
   "source": [
    "#### commands sent to device\n",
    "- cmds由编译生成，包含全部指令\n",
    "- cmds由三部分构成，依次顺序执行，分别为\n",
    "    - cmds['main']: 写波形（驱动、偏置、读取等所有波形，可由`preview`函数看波形）、设置AD(如Shots、解调系数等)。\n",
    "    - cmds['trig']: 待cmds['main']中命令全部就绪，触发设备开始发**trigger**。***trigger数量务必与AD中的Shots设置一致！！！***\n",
    "    - cmds['READ']: 从设备将数据读回。如果没有数据返回或TIMEOUT，***第一时间检查触发设置***！！！\n",
    "- 若对下发到设备的指令存疑，可逐一排查cmds或单独执行cmds中命令以确定问题所在！"
   ]
  },
  {
   "cell_type": "code",
   "execution_count": null,
   "metadata": {},
   "outputs": [
    {
     "data": {
      "image/png": "[encoded data removed]",
      "text/plain": [
       "<Figure size 640x480 with 1 Axes>"
      ]
     },
     "metadata": {},
     "output_type": "display_data"
    }
   ],
   "source": [
    "from quark.app import preview\n",
    "\n",
    "cmds = s21.step(0)\n",
    "wfv = preview(cmds['main'], start=0, end=10e-6, srate=5e9, keys=['M1'])"
   ]
  },
  {
   "cell_type": "markdown",
   "metadata": {},
   "source": [
    "#### result\n",
    "- 结果可由`s21.result()`获取\n",
    "- 也可以由get_data_by_rid获取\n",
    "- 任务对应的cfg可由get_config_by_rid获取"
   ]
  },
  {
   "cell_type": "code",
   "execution_count": 28,
   "metadata": {},
   "outputs": [],
   "source": [
    "from quark.app import get_data_by_rid, get_config_by_rid\n",
    "rs = get_data_by_rid(s21.rid)\n",
    "cfg = get_config_by_rid(s21.rid)"
   ]
  },
  {
   "cell_type": "code",
   "execution_count": 16,
   "metadata": {},
   "outputs": [
    {
     "data": {
      "image/png": "[encoded data removed]",
      "text/plain": [
       "<Figure size 1200x200 with 3 Axes>"
      ]
     },
     "metadata": {},
     "output_type": "display_data"
    }
   ],
   "source": [
    "rs = s21.result()\n",
    "signal = rs['meta']['other']['signal'].split('|')[0]\n",
    "\n",
    "r = np.asarray(rs['data'][signal])\n",
    "ax = plt.subplots(1, 3, figsize=(12, 2))[1].flatten()\n",
    "for i, q in enumerate(qubits):\n",
    "    fq = rs['meta']['axis']['freq']['def']\n",
    "    rq = np.abs(r)[:, i]\n",
    "    ax[i].plot(fq, rq)\n",
    "\n",
    "    ax[i].set_title(f'{q}')"
   ]
  },
  {
   "cell_type": "markdown",
   "metadata": {},
   "source": [
    "## 4. **常见问题**\n",
    "***遇到问题先看错误信息！遇到问题先看错误信息！遇到问题先看错误信息！***\n",
    "1. 设备没有正常开启？\n",
    "- 检查`etc.driver.path`是否正确，一般为`systemq/dev`或`dev`！\n",
    "- 设备`type`为`remote`时，检查设备名字、`host`和`port`是否和设备的ip和端口匹配！\n",
    "\n",
    "2. 线路编译错误？\n",
    "- 检查线路编写是否有误！\n",
    "- 检查`lib.gates.__init__`中导入的门模块是否正确，或cfg表中填写的参数是否匹配！\n",
    "\n",
    "3. 实验没有数据或采集设备显示超时？\n",
    "- 检查触发设备是否输出或`shots`设置和采集设备设置是否一致！\n",
    "\n",
    "4. 波形下发错误？\n",
    "- 检查设备上的numpy（**大**版本同为1.x.x或2.x.x）和waveforms版本和测量电脑是否一致！"
   ]
  }
 ],
 "metadata": {
  "kernelspec": {
   "display_name": "Python 3",
   "language": "python",
   "name": "python3"
  },
  "language_info": {
   "codemirror_mode": {
    "name": "ipython",
    "version": 3
   },
   "file_extension": ".py",
   "mimetype": "text/x-python",
   "name": "python",
   "nbconvert_exporter": "python",
   "pygments_lexer": "ipython3",
   "version": "3.12.9"
  }
 },
 "nbformat": 4,
 "nbformat_minor": 2
}
