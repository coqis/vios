{
 "cells": [
  {
   "cell_type": "markdown",
   "metadata": {},
   "source": [
    "### Recipe"
   ]
  },
  {
   "cell_type": "code",
   "execution_count": 88,
   "metadata": {},
   "outputs": [],
   "source": [
    "import numpy as np\n",
    "from tqdm import tqdm\n",
    "from pathlib import Path\n",
    "import dill\n",
    "\n",
    "\n",
    "def circuit(qubits, amps):\n",
    "    for amp in amps:\n",
    "        c = [*[('X', q) for i, q in enumerate(qubits)],\n",
    "             ('Barrier', tuple(qubits)),\n",
    "             *[(('Measure', i), q) for i, q in enumerate(qubits)]\n",
    "             ]\n",
    "        yield c\n",
    "\n",
    "\n",
    "class Recipe(object):\n",
    "    def __init__(self, scanname: str = '', shots: int = 1024, signal: str = 'iq_avg',\n",
    "                 align_right: bool = False, waveform_length: float = 98e-6):\n",
    "        \"\"\"初始化任务描述\n",
    "\n",
    "        Args:\n",
    "            scanname (str, optional): 实验名称, 如 S21. Defaults to ''.\n",
    "            shots (int, optional): 触发次数, 1024的整数倍. Defaults to 1024.\n",
    "            signal (str, optional): 采集信号. Defaults to 'iq_avg'.\n",
    "            align_right (bool, optional): 波形是否右对齐. Defaults to False.\n",
    "            waveform_length (float, optional): 波形长度. Defaults to 98e-6.\n",
    "        \"\"\"\n",
    "        self.scanname = scanname\n",
    "        self.shots = shots\n",
    "        self.signal = signal\n",
    "        self.align_right = align_right\n",
    "        self.waveform_length = waveform_length\n",
    "\n",
    "        self.circuits: list[list] = []  # qlisp线路\n",
    "\n",
    "        self.filename: str = 'test'  # 数据存储文件名, 位于桌面/home/dat文件夹下\n",
    "        self.priority: int = 0  # 任务排队用, 越小优先级越高\n",
    "        self.rules: list[str] = []  # 变量依赖关系列表, 详见bind方法\n",
    "        self.loops: dict[str, list] = {}  # 自定义变量列表, 详见sweep方法\n",
    "\n",
    "    def bind(self, path: str, value=None, variable: str = ''):\n",
    "        \"\"\"变量依赖关系列表\n",
    "\n",
    "        Args:\n",
    "            path (str): 变量在cfg表中的完整路径, 如gate.R.Q1.params.amp\n",
    "            value (Any, optional): 变量的值. Defaults to None.\n",
    "            variable (str, optional): 在loops中自定义的变量引用, 如`freq.Q0`. Defaults to ''.\n",
    "\n",
    "        Raises:\n",
    "            ValueError: _description_\n",
    "            ValueError: _description_\n",
    "        \n",
    "        Examples: `self.rules`\n",
    "            >>> self.bind('gate.R.Q0.params.frequency', variable='freq.Q0')\n",
    "            >>> self.bind('gate.R.Q1.params.amp', value=0.1)\n",
    "            ['<gate.R.Q0.params.frequency>=<freq.Q0>', '<gate.R.Q1.params.amp>=0.1']\n",
    "        \"\"\"\n",
    "        if value:\n",
    "            dep = f'<{path}>={value}'\n",
    "        elif variable and isinstance(variable, str):\n",
    "            if variable.split('.')[0] in self.loops:\n",
    "                dep = f'<{path}>=<{variable}>'\n",
    "            else:\n",
    "                raise ValueError('variable not found in loops')\n",
    "        else:\n",
    "            raise ValueError('illegal assignment!')\n",
    "\n",
    "        if dep not in self.rules:\n",
    "            self.rules.append(dep)\n",
    "\n",
    "    def sweep(self, group: str, target: str, value: np.array):\n",
    "        \"\"\"增加变量target到组group中\n",
    "\n",
    "        Args:\n",
    "            group (str): 变量组, 如对多个比特同时变频率扫描. 每个group对应一层循环, 多个group对应多层嵌套循环.\n",
    "            target (str): 变量对应的标识符号, 任意即可.\n",
    "            value (np.array): 变量对应的取值范围.\n",
    "\n",
    "        Examples: `self.loops`\n",
    "            >>> self.sweep('freq', 'Q0', array([2e6, 1e6,  0. ,  1e6,  2e6]))\n",
    "            >>> self.sweep('freq', 'Q1', array([-3e6, -1.5e6,  0. ,  1.5e6,  3e6]))\n",
    "            >>> self.sweep('amps', 'Q0', array([-0.2, -0.1,  0. ,  0.1,  0.2]))\n",
    "            >>> self.sweep('amps', 'Q1', array([-0.24, -0.12,  0. ,  0.12,  0.24]))\n",
    "            {'freq':[('Q0',array([2e6, 1e6,  0. ,  1e6,  2e6]), 'au')), ('Q1',array([-3e6, -1.5e6,  0. ,  1.5e6,  3e6]), 'au'))],\n",
    "             'amps':[('Q0',array([-0.2, -0.1,  0. ,  0.1,  0.2]), 'au')), ('Q1',array([-0.24, -0.12,  0. ,  0.12,  0.24]), 'au'))]\n",
    "            }\n",
    "        \"\"\"\n",
    "        self.loops.setdefault(group, [])\n",
    "        var = (target, value, 'au')\n",
    "\n",
    "        if var not in self.loops[group]:\n",
    "            self.loops[group].append(var)\n",
    "\n",
    "    def dumps(self, filepath: Path, localhost: bool = True):\n",
    "        \"\"\"将线路写入文件\n",
    "\n",
    "        Args:\n",
    "            filepath (Path): 线路待写入的文件路径\n",
    "\n",
    "        Raises:\n",
    "            TypeError: 线路由StepStatus得到\n",
    "\n",
    "        Returns:\n",
    "            list: 线路中的比特列表\n",
    "        \"\"\"\n",
    "        qubits = []\n",
    "        circuits = []\n",
    "        with open(filepath, 'w', encoding='utf-8') as f:\n",
    "            for i, cc in enumerate(tqdm(self.circuits(), desc='CircuitExpansion')):\n",
    "                if localhost:\n",
    "                    f.writelines(str(dill.dumps(cc))+'\\n')\n",
    "                else:\n",
    "                    circuits.append(cc)\n",
    "\n",
    "                if i == 0:\n",
    "                    # 获取线路中读取比特列表\n",
    "                    for ops in cc:\n",
    "                        if isinstance(ops[0], tuple) and ops[0][0] == 'Measure':\n",
    "                            qubits.append((ops[0][1], ops[1]))\n",
    "        return qubits, circuits\n",
    "\n",
    "    def export(self):\n",
    "        return {'metainfo': {'name': f'{self.filename}:/{self.scanname}',\n",
    "                             'priority': self.priority,\n",
    "                             'other': {'shots': self.shots,\n",
    "                                       'signal': self.signal,\n",
    "                                       'align_right': self.align_right,\n",
    "                                       'waveform_length': self.waveform_length}\n",
    "                             },\n",
    "                'taskinfo': {'STEP': {'main': ['WRITE', tuple(self.loops)],\n",
    "                                      'trig': ['WRITE', 'trig'],\n",
    "                                      'read': ['READ', 'read'],\n",
    "                                      },\n",
    "                             'CIRQ': self.circuits,\n",
    "                             'RULE': self.rules,\n",
    "                             'LOOP': self.loops\n",
    "                             },\n",
    "                }"
   ]
  },
  {
   "cell_type": "code",
   "execution_count": 89,
   "metadata": {},
   "outputs": [],
   "source": [
    "rcp = Recipe()"
   ]
  },
  {
   "cell_type": "code",
   "execution_count": 90,
   "metadata": {},
   "outputs": [
    {
     "name": "stdout",
     "output_type": "stream",
     "text": [
      "Help on method bind in module __main__:\n",
      "\n",
      "bind(path: str, value=None, variable: str = '') method of __main__.Recipe instance\n",
      "    变量依赖关系列表\n",
      "\n",
      "    Args:\n",
      "        path (str): 变量在cfg表中的完整路径, 如gate.R.Q1.params.amp\n",
      "        value (Any, optional): 变量的值. Defaults to None.\n",
      "        variable (str, optional): 在loops中自定义的变量引用, 如`freq.Q0`. Defaults to ''.\n",
      "\n",
      "    Raises:\n",
      "        ValueError: _description_\n",
      "        ValueError: _description_\n",
      "\n",
      "    Examples: `self.rules`\n",
      "        >>> self.bind('gate.R.Q0.params.frequency', variable='freq.Q0')\n",
      "        >>> self.bind('gate.R.Q1.params.amp', value=0.1)\n",
      "        ['<gate.R.Q0.params.frequency>=<freq.Q0>', '<gate.R.Q1.params.amp>=0.1']\n",
      "\n"
     ]
    }
   ],
   "source": [
    "help(rcp.bind)"
   ]
  },
  {
   "cell_type": "code",
   "execution_count": 91,
   "metadata": {},
   "outputs": [
    {
     "data": {
      "text/plain": [
       "{'f': [('q', [1, 2, 3], 'au')]}"
      ]
     },
     "execution_count": 91,
     "metadata": {},
     "output_type": "execute_result"
    }
   ],
   "source": [
    "rcp.sweep('f','q',[1,2,3])\n",
    "rcp.loops"
   ]
  },
  {
   "cell_type": "code",
   "execution_count": 92,
   "metadata": {},
   "outputs": [
    {
     "data": {
      "text/plain": [
       "{'metainfo': {'name': 'test:/',\n",
       "  'priority': 0,\n",
       "  'other': {'shots': 1024,\n",
       "   'signal': 'iq_avg',\n",
       "   'align_right': False,\n",
       "   'waveform_length': 9.8e-05}},\n",
       " 'taskinfo': {'STEP': {'main': ['WRITE', ('f',)],\n",
       "   'trig': ['WRITE', 'trig'],\n",
       "   'read': ['READ', 'read']},\n",
       "  'CIRQ': [],\n",
       "  'RULE': ['<a.b.c>=1234', '<c.d.e>=<f.q>'],\n",
       "  'LOOP': {'f': [('q', [1, 2, 3], 'au')]}}}"
      ]
     },
     "execution_count": 92,
     "metadata": {},
     "output_type": "execute_result"
    }
   ],
   "source": [
    "rcp.bind('a.b.c',value=1234)\n",
    "rcp.bind('c.d.e',variable='f.q')\n",
    "rcp.export()"
   ]
  },
  {
   "cell_type": "markdown",
   "metadata": {},
   "source": [
    "### qiskit"
   ]
  },
  {
   "cell_type": "code",
   "execution_count": 13,
   "metadata": {},
   "outputs": [],
   "source": [
    "from qiskit import QuantumCircuit, qasm2"
   ]
  },
  {
   "cell_type": "code",
   "execution_count": 18,
   "metadata": {},
   "outputs": [
    {
     "data": {
      "image/png": "[encoded data removed]",
      "text/plain": [
       "<Figure size 914.831x451.5 with 1 Axes>"
      ]
     },
     "execution_count": 18,
     "metadata": {},
     "output_type": "execute_result"
    }
   ],
   "source": [
    "n =4\n",
    "qc = QuantumCircuit(n)\n",
    "qc.h(0)\n",
    "for i in range(n-1):\n",
    "    qc.cx(i, i+1)\n",
    "qc.measure_all()\n",
    "qc.draw('mpl')"
   ]
  },
  {
   "cell_type": "code",
   "execution_count": 19,
   "metadata": {},
   "outputs": [
    {
     "name": "stdout",
     "output_type": "stream",
     "text": [
      "OPENQASM 2.0;\n",
      "include \"qelib1.inc\";\n",
      "qreg q[4];\n",
      "creg meas[4];\n",
      "h q[0];\n",
      "cx q[0],q[1];\n",
      "cx q[1],q[2];\n",
      "cx q[2],q[3];\n",
      "barrier q[0],q[1],q[2],q[3];\n",
      "measure q[0] -> meas[0];\n",
      "measure q[1] -> meas[1];\n",
      "measure q[2] -> meas[2];\n",
      "measure q[3] -> meas[3];\n"
     ]
    }
   ],
   "source": [
    "print(qasm2.dumps(qc))"
   ]
  },
  {
   "cell_type": "markdown",
   "metadata": {},
   "source": [
    "### waveform"
   ]
  },
  {
   "cell_type": "code",
   "execution_count": 1,
   "metadata": {},
   "outputs": [],
   "source": [
    "circuit = [\n",
    "    ('H', 'Q0'),\n",
    "    ('Cnot', ('Q0', 'Q1')),\n",
    "    ('Cnot', ('Q1', 'Q2')),\n",
    "    ('Cnot', ('Q2', 'Q3')),\n",
    "    ('Barrier', ('Q0', 'Q1', 'Q2', 'Q3')),\n",
    "    (('Measure', 0), 'Q0'),\n",
    "    (('Measure', 1), 'Q1'),\n",
    "    (('Measure', 2), 'Q2'),\n",
    "    (('Measure', 3), 'Q3'),\n",
    "]"
   ]
  },
  {
   "cell_type": "code",
   "execution_count": 2,
   "metadata": {},
   "outputs": [],
   "source": [
    "from pathlib import Path\n",
    "import json\n",
    "\n",
    "with open(Path.home()/'Desktop/home/cfg/144v424_WCL_MYJ_240307_previous.json', 'r') as f:\n",
    "    cfg = json.loads(f.read())\n",
    "\n",
    "for q in ['Q0', 'Q1', 'Q2','Q3']:\n",
    "    cfg['gate']['Measure'][q]['default_type'] = 'default'"
   ]
  },
  {
   "cell_type": "code",
   "execution_count": 3,
   "metadata": {},
   "outputs": [
    {
     "name": "stderr",
     "output_type": "stream",
     "text": [
      "\u001b[32m2024-11-01 14:41:13.729\u001b[0m | \u001b[1mINFO    \u001b[0m | \u001b[36mquark.envelope.assembler\u001b[0m:\u001b[36mccompile\u001b[0m:\u001b[36m188\u001b[0m - \u001b[1mStep 0 compiled >>>>>>>>>>>>>\u001b[0m\n"
     ]
    }
   ],
   "source": [
    "from quark.proxy import translate\n",
    "cmds = translate(circuit,cfg)[1][0]"
   ]
  },
  {
   "cell_type": "code",
   "execution_count": 5,
   "metadata": {},
   "outputs": [],
   "source": [
    "# cmds['main']['AWG_16_116_51.CH8.Waveform'][-1]['context']"
   ]
  },
  {
   "cell_type": "code",
   "execution_count": 17,
   "metadata": {},
   "outputs": [],
   "source": [
    "# wf = cmds['main']['ZW_AD3.CH1.Waveform'][1]\n",
    "# wf.start = 0\n",
    "# wf.stop = 100e-6\n",
    "# wf.sample_rate = 5e9\n",
    "# import matplotlib.pyplot as plt\n",
    "\n",
    "# plt.plot(wf.sample())"
   ]
  },
  {
   "cell_type": "code",
   "execution_count": 8,
   "metadata": {},
   "outputs": [
    {
     "name": "stdout",
     "output_type": "stream",
     "text": [
      "90.00000000000001 Q0\n",
      "90.00000000000001 Q1\n",
      "90.00000000000001 C0\n",
      "90.00000000000001 Q2\n",
      "90.00000000000001 C1\n",
      "90.00000000000001 Q3\n",
      "90.00000000000001 C2\n",
      "90.00000000000001 M1\n"
     ]
    },
    {
     "data": {
      "image/png": "[encoded data removed]",
      "text/plain": [
       "<Figure size 640x480 with 1 Axes>"
      ]
     },
     "metadata": {},
     "output_type": "display_data"
    }
   ],
   "source": [
    "from quark.app import preview\n",
    "from copy import deepcopy\n",
    "samples = preview(deepcopy(cmds['main']),start=90e-6,stop=97e-6,offset=1,space=1)"
   ]
  },
  {
   "cell_type": "code",
   "execution_count": 10,
   "metadata": {},
   "outputs": [
    {
     "data": {
      "text/plain": [
       "(50000,)"
      ]
     },
     "execution_count": 10,
     "metadata": {},
     "output_type": "execute_result"
    }
   ],
   "source": [
    "import numpy as np\n",
    "samples['Q0'].shape"
   ]
  },
  {
   "cell_type": "code",
   "execution_count": 3,
   "metadata": {},
   "outputs": [],
   "source": [
    "e1 = np.array([1,4])\n",
    "e2 = np.array([7,5])\n",
    "m = np.array([[41,7],[-20,74]])"
   ]
  },
  {
   "cell_type": "code",
   "execution_count": 20,
   "metadata": {},
   "outputs": [
    {
     "data": {
      "text/plain": [
       "230"
      ]
     },
     "execution_count": 20,
     "metadata": {},
     "output_type": "execute_result"
    }
   ],
   "source": [
    "np.array([0,1])@m@e2"
   ]
  },
  {
   "cell_type": "code",
   "execution_count": 25,
   "metadata": {},
   "outputs": [],
   "source": [
    "tt = np.array([[1,7],[4,5]])"
   ]
  },
  {
   "cell_type": "code",
   "execution_count": 30,
   "metadata": {},
   "outputs": [],
   "source": [
    "iv = np.linalg.inv(tt)"
   ]
  },
  {
   "cell_type": "code",
   "execution_count": 34,
   "metadata": {},
   "outputs": [
    {
     "data": {
      "text/plain": [
       "array([[69,  0],\n",
       "       [ 0, 46]])"
      ]
     },
     "execution_count": 34,
     "metadata": {},
     "output_type": "execute_result"
    }
   ],
   "source": [
    "(iv@m@tt).astype(int)"
   ]
  },
  {
   "cell_type": "code",
   "execution_count": 1,
   "metadata": {},
   "outputs": [
    {
     "data": {
      "text/plain": [
       "'C:\\\\Users\\\\NUC\\\\AppData\\\\Roaming\\\\Python\\\\Python312\\\\site-packages'"
      ]
     },
     "execution_count": 1,
     "metadata": {},
     "output_type": "execute_result"
    }
   ],
   "source": [
    "import site\n",
    "site.getusersitepackages()"
   ]
  }
 ],
 "metadata": {
  "kernelspec": {
   "display_name": "Python 3",
   "language": "python",
   "name": "python3"
  },
  "language_info": {
   "codemirror_mode": {
    "name": "ipython",
    "version": 3
   },
   "file_extension": ".py",
   "mimetype": "text/x-python",
   "name": "python",
   "nbconvert_exporter": "python",
   "pygments_lexer": "ipython3",
   "version": "3.11.1"
  }
 },
 "nbformat": 4,
 "nbformat_minor": 2
}
